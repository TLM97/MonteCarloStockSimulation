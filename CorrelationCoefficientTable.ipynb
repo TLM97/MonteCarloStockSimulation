{
 "cells": [
  {
   "cell_type": "code",
   "execution_count": 143,
   "id": "46b50c87",
   "metadata": {},
   "outputs": [],
   "source": [
    "import yfinance as yf\n",
    "import pandas as pd\n",
    "import datetime as dt\n",
    "import numpy as np\n",
    "import matplotlib.pyplot as plt\n",
    "from pandas_datareader import data as pdr\n",
    "import pylab as plt\n",
    "import seaborn"
   ]
  },
  {
   "cell_type": "code",
   "execution_count": 163,
   "id": "5e9f9456",
   "metadata": {},
   "outputs": [],
   "source": [
    "# calculates Returns, Mean Returns, the Covariance Matrix & the Correlation Coefficient\n",
    "\n",
    "\n",
    "stockList = []\n",
    "stockReturns = []\n",
    "stockMeanReturns = []\n",
    "covarianceMatrix = []\n",
    "\n",
    "#get and calculate the above Data\n",
    "\n",
    "def getData(stocks, start, end):\n",
    "    stockData = yf.download(stocks, start=start, end=end)['Close']\n",
    "    returns = stockData.pct_change()\n",
    "    meanReturns = returns.mean()\n",
    "    covMatrix = returns.cov()\n",
    "    corr_df = stockData.corr(method='pearson')\n",
    "        \n",
    "    stockList.append(stockData)    \n",
    "    stockReturns.append(returns)\n",
    "    stockMeanReturns.append(meanReturns)    \n",
    "    covarianceMatrix.append(covMatrix)\n",
    " \n",
    "    \n",
    "    \n",
    "    mask = np.zeros_like(corr_df)\n",
    "    mask[np.triu_indices_from(mask)] = True\n",
    "    seaborn.heatmap(corr_df, cmap='RdYlGn', vmax=1.0, vmin=-1.0 , mask = mask, linewidths=2.5)\n",
    "    plt.yticks(rotation=0) \n",
    "    plt.xticks(rotation=90) \n",
    "    plt.show()"
   ]
  },
  {
   "cell_type": "code",
   "execution_count": null,
   "id": "5c1e7369",
   "metadata": {},
   "outputs": [],
   "source": [
    "\n"
   ]
  },
  {
   "cell_type": "code",
   "execution_count": 164,
   "id": "82831dfa",
   "metadata": {},
   "outputs": [
    {
     "name": "stdout",
     "output_type": "stream",
     "text": [
      "[*********************100%***********************]  3 of 3 completed\n"
     ]
    },
    {
     "data": {
      "image/png": "[encoded data removed]",
      "text/plain": [
       "<Figure size 640x480 with 2 Axes>"
      ]
     },
     "metadata": {},
     "output_type": "display_data"
    }
   ],
   "source": [
    "stocks = ['GOOG', 'AAPL', 'META']\n",
    "startDate = '2021-01-01'\n",
    "endDate = '2023-10-08'\n",
    "\n",
    "getData(stocks, startDate, endDate)"
   ]
  },
  {
   "cell_type": "markdown",
   "id": "edbb2364",
   "metadata": {},
   "source": [
    "  #take the bottom triangle since it repeats itself\n",
    " mask = np.zeros_like(corr_df)\n",
    " mask[np.triu_indices_from(mask)] = True\n",
    " #generate plot\n",
    " seaborn.heatmap(corr_df, cmap='RdYlGn', vmax=1.0, vmin=-1.0 , mask = mask, linewidths=2.5)\n",
    " plt.yticks(rotation=0) \n",
    " plt.xticks(rotation=90) \n",
    " plt.show()"
   ]
  },
  {
   "cell_type": "code",
   "execution_count": null,
   "id": "7054d7fa",
   "metadata": {},
   "outputs": [],
   "source": []
  },
  {
   "cell_type": "code",
   "execution_count": 166,
   "id": "e19ded71",
   "metadata": {},
   "outputs": [],
   "source": [
    "# Monte Carlo Simulation - Inputs\n",
    "\n",
    "n = 1048\n",
    "simDays = 260\n",
    "\n",
    "#portfolio Distribution\n",
    "portfolioWeights = np.ones(len(stocks))\n",
    "portfolioWeights = portfolioWeights* (1/ len(stocks))"
   ]
  },
  {
   "cell_type": "code",
   "execution_count": 226,
   "id": "106c062c",
   "metadata": {},
   "outputs": [],
   "source": [
    "#Monte Carlo Simulation\n",
    "\n",
    "#Portfolio Returns\n",
    "\n",
    "portfolioMeanReturn = np.sum(stockMeanReturns * portfolioWeights)\n",
    "\n",
    "#Calculate Portfolio Variance \n",
    "\n",
    "portfolioVariances = []\n",
    "\n",
    "def portfolioVariance(covariance, weights):\n",
    "        for i in range(len(stocks)):\n",
    "            for j in range(len(stocks)):\n",
    "                if i == j:\n",
    "                    cov1 = weights[i] * weights[j] * covariance[0][stocks[i]][stocks[j]]\n",
    "                    portfolioVariances.append(cov1)\n",
    "                if i < j:\n",
    "                    continue\n",
    "                else:\n",
    "                    cov1 = 2* weights[i] * weights[j] * covariance[0][stocks[i]][stocks[j]]\n",
    "                    portfolioVariances.append(cov1)\n",
    "                    \n",
    "#Call Function\n",
    "\n",
    "portfolioVariance(covarianceMatrix, portfolioWeights)\n",
    "\n",
    "portfolioVariance = np.sum(portfolioVariances)\n",
    "\n",
    "#Calculate Portfolio Covariance\n",
    "\n",
    "portfolioCovariances = []\n",
    "\n",
    "def portfolioCovariance(covariance, weights):\n",
    "            for i in range(len(stocks)):\n",
    "                for j in range(i+ 1, len(stocks)):\n",
    "                    cov1 = 2* weights[i] * weights[j] * covariance[0][stocks[i]][stocks[j]]\n",
    "                    portfolioCovariances.append(cov1)\n",
    "                        \n",
    "#Call Function\n",
    "\n",
    "portfolioCovariance(covarianceMatrix, portfolioWeights)\n",
    "portfolioCovariance = np.sum(portfolioCovariances)\n",
    "    "
   ]
  },
  {
   "cell_type": "code",
   "execution_count": 227,
   "id": "c37c2eba",
   "metadata": {},
   "outputs": [
    {
     "data": {
      "text/plain": [
       "[4.619163134173397e-05,\n",
       " 9.238326268346794e-05,\n",
       " 5.5636321627425045e-05,\n",
       " 3.6873567861798793e-05,\n",
       " 7.374713572359759e-05,\n",
       " 9.064184736812607e-05,\n",
       " 6.944947304163134e-05,\n",
       " 0.00010755342104947894,\n",
       " 0.00021510684209895788]"
      ]
     },
     "execution_count": 227,
     "metadata": {},
     "output_type": "execute_result"
    }
   ],
   "source": [
    "portfolioVariances"
   ]
  },
  {
   "cell_type": "code",
   "execution_count": 225,
   "id": "d67ec9dc",
   "metadata": {},
   "outputs": [
    {
     "data": {
      "text/plain": [
       "0.00021572764203718246"
      ]
     },
     "execution_count": 225,
     "metadata": {},
     "output_type": "execute_result"
    }
   ],
   "source": [
    "portfolioCovariance\n",
    "    "
   ]
  },
  {
   "cell_type": "code",
   "execution_count": 193,
   "id": "3bfd6edd",
   "metadata": {},
   "outputs": [
    {
     "data": {
      "text/plain": [
       "[          AAPL      GOOG      META\n",
       " AAPL  0.000332  0.000250  0.000313\n",
       " GOOG  0.000250  0.000416  0.000408\n",
       " META  0.000313  0.000408  0.000968]"
      ]
     },
     "execution_count": 193,
     "metadata": {},
     "output_type": "execute_result"
    }
   ],
   "source": [
    "covarianceMatrix"
   ]
  },
  {
   "cell_type": "code",
   "execution_count": null,
   "id": "c4c27075",
   "metadata": {},
   "outputs": [],
   "source": []
  }
 ],
 "metadata": {
  "kernelspec": {
   "display_name": "Python 3 (ipykernel)",
   "language": "python",
   "name": "python3"
  },
  "language_info": {
   "codemirror_mode": {
    "name": "ipython",
    "version": 3
   },
   "file_extension": ".py",
   "mimetype": "text/x-python",
   "name": "python",
   "nbconvert_exporter": "python",
   "pygments_lexer": "ipython3",
   "version": "3.11.3"
  }
 },
 "nbformat": 4,
 "nbformat_minor": 5
}
